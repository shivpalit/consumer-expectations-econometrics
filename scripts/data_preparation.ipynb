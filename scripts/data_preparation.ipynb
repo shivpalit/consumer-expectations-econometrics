{
 "cells": [
  {
   "cell_type": "code",
   "execution_count": 12,
   "metadata": {},
   "outputs": [],
   "source": [
    "import pandas as pd\n",
    "import numpy as np\n",
    "from sklearn.linear_model import LinearRegression \n",
    "import statsmodels.api as sm\n",
    "import matplotlib.pyplot as plt\n",
    "import quandl"
   ]
  },
  {
   "cell_type": "code",
   "execution_count": 13,
   "metadata": {},
   "outputs": [],
   "source": [
    "data=pd.read_csv(\"data.csv\",low_memory=False)"
   ]
  },
  {
   "cell_type": "code",
   "execution_count": 14,
   "metadata": {},
   "outputs": [],
   "source": [
    "data=data[data.YYYYMM>=201001]"
   ]
  },
  {
   "cell_type": "code",
   "execution_count": 15,
   "metadata": {},
   "outputs": [],
   "source": [
    "d1 = data[data.INVAMT!=99999998]"
   ]
  },
  {
   "cell_type": "code",
   "execution_count": 16,
   "metadata": {},
   "outputs": [],
   "source": [
    "d2 = pd.DataFrame()\n",
    "\n",
    "for i in d1:\n",
    "    d2[i] = pd.to_numeric(d1[i], errors='coerce')"
   ]
  },
  {
   "cell_type": "code",
   "execution_count": 17,
   "metadata": {},
   "outputs": [],
   "source": [
    "d2.dropna(inplace=True)"
   ]
  },
  {
   "cell_type": "code",
   "execution_count": 18,
   "metadata": {},
   "outputs": [],
   "source": [
    "ICS = d2[['YYYY','YYYYMM','ICS','PAGO','PEXP','BUS12','BUS5','DUR']]"
   ]
  },
  {
   "cell_type": "code",
   "execution_count": 19,
   "metadata": {},
   "outputs": [],
   "source": [
    "PAGOr=[]\n",
    "PEXPr=[]\n",
    "BUS12r=[]\n",
    "BUS5r=[]\n",
    "DURr=[]\n",
    "for i in d2.PAGO:\n",
    "    if i==1:\n",
    "        PAGOr.append(1)\n",
    "    elif i==5:\n",
    "        PAGOr.append(-1)\n",
    "    elif i==3:\n",
    "        PAGOr.append(0)\n",
    "    else:\n",
    "        PAGOr.append(np.nan)\n",
    "        \n",
    "for i in d2.PEXP:\n",
    "    if i==1:\n",
    "        PEXPr.append(1)\n",
    "    elif i==5:\n",
    "        PEXPr.append(-1)\n",
    "    elif i==3:\n",
    "        PEXPr.append(0)\n",
    "    else:\n",
    "        PEXPr.append(np.nan)\n",
    "        \n",
    "for i in d2.BUS12:\n",
    "    if i==1:\n",
    "        BUS12r.append(1)\n",
    "    elif i==2:\n",
    "        BUS12r.append(0.5)\n",
    "    elif i==3:\n",
    "        BUS12r.append(0)\n",
    "    elif i==4:\n",
    "        BUS12r.append(-0.5)\n",
    "    elif i==5:\n",
    "        BUS12r.append(-1)\n",
    "    else:\n",
    "        BUS12r.append(np.nan)\n",
    "        \n",
    "for i in d2.BUS5:\n",
    "    if i==1:\n",
    "        BUS5r.append(1)\n",
    "    elif i==2:\n",
    "        BUS5r.append(0.5)\n",
    "    elif i==3:\n",
    "        BUS5r.append(0)\n",
    "    elif i==4:\n",
    "        BUS5r.append(-0.5)\n",
    "    elif i==5:\n",
    "        BUS5r.append(-1)\n",
    "    elif i==98:\n",
    "        BUS5r.append(np.nan)\n",
    "    elif i==99:\n",
    "        BUS5r.append(np.nan)\n",
    "\n",
    "for i in d2.DUR:\n",
    "    if i==1:\n",
    "        DURr.append(1)\n",
    "    elif i==3:\n",
    "        DURr.append(0)\n",
    "    elif i==5:\n",
    "        DURr.append(-1)\n",
    "    else:\n",
    "        DURr.append(np.nan)"
   ]
  },
  {
   "cell_type": "code",
   "execution_count": 20,
   "metadata": {},
   "outputs": [],
   "source": [
    "ICS=ICS.copy()\n",
    "d2=d2.copy()\n",
    "d2['PAGOr'], ICS['PAGOr']=np.asarray(PAGOr), np.asarray(PAGOr)\n",
    "d2['PEXPr'], ICS['PEXPr']=np.asarray(PEXPr), np.asarray(PEXPr)\n",
    "d2['BUS12r'], ICS['BUS12r']=np.asarray(BUS12r), np.asarray(BUS12r)\n",
    "d2['BUS5r'], ICS['BUS5r']=np.asarray(BUS5r), np.asarray(BUS5r)\n",
    "d2['DURr'], ICS['DURr']=np.asarray(DURr), np.asarray(DURr)\n"
   ]
  },
  {
   "cell_type": "code",
   "execution_count": 21,
   "metadata": {},
   "outputs": [],
   "source": [
    "ICS['ICSr']=(ICS.PAGOr+ICS.PEXPr+ICS.BUS5r+ICS.BUS12r+ICS.DURr)\n",
    "d2['ICSr']=ICS['ICSr']"
   ]
  },
  {
   "cell_type": "code",
   "execution_count": 22,
   "metadata": {},
   "outputs": [],
   "source": [
    "d2.dropna(inplace=True)\n",
    "ICS.dropna(inplace=True)"
   ]
  },
  {
   "cell_type": "code",
   "execution_count": 23,
   "metadata": {},
   "outputs": [],
   "source": [
    "months = []\n",
    "for i in d2.YYYYMM:\n",
    "    s =  str(i)\n",
    "    m = s[4:]\n",
    "    month = int(m)\n",
    "    months.append(month)\n",
    "\n",
    "d2['Month']=months"
   ]
  },
  {
   "cell_type": "code",
   "execution_count": 24,
   "metadata": {},
   "outputs": [],
   "source": [
    "SP5 = pd.read_csv('fredgraph-2.csv')"
   ]
  },
  {
   "cell_type": "code",
   "execution_count": 25,
   "metadata": {},
   "outputs": [],
   "source": [
    "smonths=[]\n",
    "for i in SP5.Date:\n",
    "    s=str(i)\n",
    "    ym=s[:7]\n",
    "    ym=int(ym.replace('-',''))\n",
    "    smonths.append(ym)\n",
    "    \n",
    "    \n",
    "SP5['YYYYMM']=np.asarray(smonths)"
   ]
  },
  {
   "cell_type": "code",
   "execution_count": 26,
   "metadata": {},
   "outputs": [],
   "source": [
    "SP5['SP500_LAG1'] = SP5['SP500'].shift(1)"
   ]
  },
  {
   "cell_type": "code",
   "execution_count": 27,
   "metadata": {},
   "outputs": [],
   "source": [
    "ICS=ICS.merge(SP5,on='YYYYMM')"
   ]
  },
  {
   "cell_type": "code",
   "execution_count": 28,
   "metadata": {},
   "outputs": [],
   "source": [
    "d3=d2.merge(SP5,on='YYYYMM')"
   ]
  },
  {
   "cell_type": "code",
   "execution_count": 29,
   "metadata": {},
   "outputs": [],
   "source": [
    "PAGO5r=[]\n",
    "for i in d3.PAGO5:\n",
    "    if i==1:\n",
    "        PAGO5r.append(1)\n",
    "    elif i==5:\n",
    "        PAGO5r.append(-1)\n",
    "    elif i==3:\n",
    "        PAGO5r.append(0)\n",
    "    else:\n",
    "        PAGO5r.append(np.nan)\n",
    "d3['PAGO5r']=np.asarray(PAGO5r)\n",
    "\n",
    "PEXP5r=[]\n",
    "for i in d3.PEXP5:\n",
    "    if i==1:\n",
    "        PEXP5r.append(1)\n",
    "    elif i==5:\n",
    "        PEXP5r.append(-1)\n",
    "    elif i==3:\n",
    "        PEXP5r.append(0)\n",
    "    else:\n",
    "        PEXP5r.append(np.nan)\n",
    "d3['PEXP5r']=np.asarray(PEXP5r)\n",
    "        \n",
    "INEXQ1r = []\n",
    "for i in d3.INEXQ1:\n",
    "    if i==1:\n",
    "        INEXQ1r.append(1)\n",
    "    elif i==5:\n",
    "        INEXQ1r.append(-1)\n",
    "    elif i==3:\n",
    "        INEXQ1r.append(0)\n",
    "    else:\n",
    "        INEXQ1r.append(np.nan)\n",
    "d3['INEXQ1r']=np.asarray(INEXQ1r)\n",
    "        \n",
    "BAGOr = []\n",
    "for i in d3.BAGO:\n",
    "    if i==1:\n",
    "        BAGOr.append(1)\n",
    "    elif i==5:\n",
    "        BAGOr.append(-1)\n",
    "    elif i==3:\n",
    "        BAGOr.append(0)\n",
    "    else:\n",
    "        BAGOr.append(np.nan)\n",
    "d3['BAGOr']=np.asarray(BAGOr)\n",
    "\n",
    "BEXPr = []\n",
    "for i in d3.BEXP:\n",
    "    if i==1:\n",
    "        BEXPr.append(1)\n",
    "    elif i==5:\n",
    "        BEXPr.append(-1)\n",
    "    elif i==3:\n",
    "        BEXPr.append(0)\n",
    "    else:\n",
    "        BEXPr.append(np.nan)\n",
    "d3['BEXPr']=np.asarray(BEXPr)\n",
    "\n",
    "UNEMPr = []\n",
    "for i in d3.UNEMP:\n",
    "    if i==1:\n",
    "        UNEMPr.append(1)\n",
    "    elif i==5:\n",
    "        UNEMPr.append(-1)\n",
    "    elif i==3:\n",
    "        UNEMPr.append(0)\n",
    "    else:\n",
    "        UNEMPr.append(np.nan)\n",
    "d3['UNEMPr']=np.asarray(UNEMPr)\n",
    "        \n",
    "GOVTr = []\n",
    "for i in d3.GOVT:\n",
    "    if i==1:\n",
    "        GOVTr.append(1)\n",
    "    elif i==5:\n",
    "        GOVTr.append(-1)\n",
    "    elif i==3:\n",
    "        GOVTr.append(0)\n",
    "    else:\n",
    "        GOVTr.append(np.nan)\n",
    "d3['GOVTr']=np.asarray(GOVTr)\n",
    "\n",
    "RATEXr = []\n",
    "for i in d3.RATEX:\n",
    "    if i==1:\n",
    "        RATEXr.append(1)\n",
    "    elif i==5:\n",
    "        RATEXr.append(-1)\n",
    "    elif i==3:\n",
    "        RATEXr.append(0)\n",
    "    else:\n",
    "        RATEXr.append(np.nan)\n",
    "d3['RATEXr']=np.asarray(RATEXr)\n",
    "        \n",
    "PX1Q1r = []\n",
    "for i in d3.PX1Q1:\n",
    "    if i==1:\n",
    "        PX1Q1r.append(1)\n",
    "    elif i==5:\n",
    "        PX1Q1r.append(-1)\n",
    "    elif i==3:\n",
    "        PX1Q1r.append(0)\n",
    "    elif i==2:\n",
    "        PX1Q1r.append(0.5)\n",
    "    else:\n",
    "        PX1Q1r.append(np.nan)    \n",
    "d3['PX1Q1r']=np.asarray(PX1Q1r)\n",
    "\n",
    "SEXd = []\n",
    "for i in d3.SEX:\n",
    "    if i==1:\n",
    "        SEXd.append(1)\n",
    "    else:\n",
    "        SEXd.append(0)\n",
    "d3['SEXd']=np.asarray(SEXd)\n",
    "\n",
    "MARRYd = []\n",
    "for i in d3.MARRY:\n",
    "    if i==1:\n",
    "        MARRYd.append(1)\n",
    "    else:\n",
    "        MARRYd.append(0)\n",
    "d3['MARRYd']=np.asarray(MARRYd)\n",
    "\n",
    "EDUCcol = []\n",
    "for i in d3.EDUC:\n",
    "    if i>=5:\n",
    "        EDUCcol.append(1)\n",
    "    else:\n",
    "        EDUCcol.append(0)\n",
    "d3['EDUC-college']=np.asarray(EDUCcol)\n",
    "\n",
    "PCRYr = []\n",
    "for i in d3.PCRY:\n",
    "    if i==1:\n",
    "        PCRYr.append(1)\n",
    "    elif i==5:\n",
    "        PCRYr.append(-1)\n",
    "    elif i==3:\n",
    "        PCRYr.append(0)\n",
    "    else:\n",
    "        PCRYr.append(np.nan)\n",
    "d3['PCRYr']=np.asarray(PCRYr)\n"
   ]
  },
  {
   "cell_type": "code",
   "execution_count": 30,
   "metadata": {},
   "outputs": [],
   "source": [
    "d4 = pd.read_csv('masterdata.csv',low_memory=False)\n",
    "d3 = d3.merge(d4[['CASEID','PINC2','PSTK','INEXQ2',]], on='CASEID')"
   ]
  },
  {
   "cell_type": "code",
   "execution_count": 31,
   "metadata": {},
   "outputs": [],
   "source": [
    "d5 = d3[['YYYYMM','YYYYQ','YYYY','Month','ICS','ICSr','PAGOr','PEXPr','BUS12r','BUS5r','DURr',\n",
    "         'PAGO5r','PCRYr','EDUC-college','MARRYd','SEXd','PX1Q1r','RATEXr','GOVTr','UNEMPr','BEXPr','BAGOr',\n",
    "         'PEXP5r','INEXQ1r','INEXQ2','INVEST','INVAMT','AGE','NUMKID','PINC2','PSTK', 'INCOME',\n",
    "         'SP500','SP500_PCH','SP500_LAG1','UNRATE','UNRATE_PCH','CPI']]"
   ]
  },
  {
   "cell_type": "code",
   "execution_count": 32,
   "metadata": {},
   "outputs": [],
   "source": [
    "d6 = d5.dropna()"
   ]
  },
  {
   "cell_type": "code",
   "execution_count": 33,
   "metadata": {},
   "outputs": [],
   "source": [
    "d6['INEXQ2'] = pd.to_numeric(d6['INEXQ2'], errors='coerce')\n",
    "d6['INCOME'] = pd.to_numeric(d6['INCOME'], errors='coerce')"
   ]
  },
  {
   "cell_type": "code",
   "execution_count": 34,
   "metadata": {},
   "outputs": [],
   "source": [
    "d7 = d6.drop(['ICS','ICSr','PX1Q1r', 'GOVTr'], axis=1)"
   ]
  },
  {
   "cell_type": "code",
   "execution_count": 35,
   "metadata": {},
   "outputs": [],
   "source": [
    "d8 = pd.DataFrame()\n",
    "\n",
    "for i in d7:\n",
    "    d8[i] = pd.to_numeric(d7[i], errors='coerce')"
   ]
  },
  {
   "cell_type": "code",
   "execution_count": 36,
   "metadata": {},
   "outputs": [],
   "source": [
    "spud = []\n",
    "\n",
    "for i in d8['SP500_PCH']:\n",
    "    if i<0:\n",
    "        spud.append(-1)\n",
    "    if i>0:\n",
    "        spud.append(1)\n",
    "    if i==0:\n",
    "        spud.append(0)\n",
    "        \n",
    "unud = []\n",
    "\n",
    "for i in d8['UNRATE_PCH']:\n",
    "    if i<0:\n",
    "        unud.append(-1)\n",
    "    if i>0:\n",
    "        unud.append(1)\n",
    "    if i==0:\n",
    "        unud.append(0)"
   ]
  },
  {
   "cell_type": "code",
   "execution_count": 37,
   "metadata": {},
   "outputs": [],
   "source": [
    "d8['SP500_UD'] = np.asarray(spud)\n",
    "d8['UNRATE_UD']=np.asarray(unud)\n"
   ]
  },
  {
   "cell_type": "code",
   "execution_count": 38,
   "metadata": {},
   "outputs": [],
   "source": [
    "d9 = d8[(d8.INEXQ2 != 99)&(d8.INEXQ2 != 98)]"
   ]
  },
  {
   "cell_type": "code",
   "execution_count": 39,
   "metadata": {},
   "outputs": [],
   "source": [
    "d9.dropna(inplace=True)"
   ]
  },
  {
   "cell_type": "code",
   "execution_count": 40,
   "metadata": {},
   "outputs": [],
   "source": [
    "d10 = d9[(d9.PINC2 != '996.0')&(d9.PINC2 != '998.0')&(d9.PINC2 != '999.0')&(d9.PSTK != '998.0')&(d9.PSTK != '999.0')]"
   ]
  },
  {
   "cell_type": "code",
   "execution_count": 41,
   "metadata": {},
   "outputs": [],
   "source": [
    "d10.to_csv('final.csv')"
   ]
  },
  {
   "cell_type": "code",
   "execution_count": null,
   "metadata": {},
   "outputs": [],
   "source": []
  }
 ],
 "metadata": {
  "kernelspec": {
   "display_name": "Python 3",
   "language": "python",
   "name": "python3"
  },
  "language_info": {
   "codemirror_mode": {
    "name": "ipython",
    "version": 3
   },
   "file_extension": ".py",
   "mimetype": "text/x-python",
   "name": "python",
   "nbconvert_exporter": "python",
   "pygments_lexer": "ipython3",
   "version": "3.7.3-final"
  }
 },
 "nbformat": 4,
 "nbformat_minor": 2
}